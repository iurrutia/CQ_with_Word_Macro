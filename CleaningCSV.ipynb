{
 "cells": [
  {
   "cell_type": "markdown",
   "metadata": {},
   "source": [
    "# Python reformating code:\n",
    "\n",
    "Run the following code to reformat the table (Step 5)."
   ]
  },
  {
   "cell_type": "code",
   "execution_count": null,
   "metadata": {},
   "outputs": [],
   "source": [
    "# Read the csv file\n",
    "import csv\n",
    "codeddata = []\n",
    "with open('DataBefore.csv', newline='') as csvfile:\n",
    "    spamreader = csv.reader(csvfile, delimiter=',')\n",
    "    for row in spamreader:\n",
    "        codeddata.append(row)\n",
    "        \n",
    "# We can look at the first few rows \n",
    "codeddata[:5]"
   ]
  },
  {
   "cell_type": "code",
   "execution_count": null,
   "metadata": {},
   "outputs": [],
   "source": [
    "# Clean up data:\n",
    "\n",
    "merged = []\n",
    "for row in codeddata:\n",
    "    if len(row[0]) == 0 and len(row[1]) == 0: # Delete empty rows (if any data coded included text across paragraph \n",
    "        pass                                  # breaks you may generate empty rows when you unmerge cells in Excel)\n",
    "    else:\n",
    "        if len(row[1]) == 0:                  # If this data does not have an assigned code then add data to the\n",
    "            merged[-1][0] += \" \" + row[0]    # previous row (where it belongs!)\n",
    "        else:\n",
    "            merged.append(row)\n",
    "                \n",
    "merged[:5]"
   ]
  },
  {
   "cell_type": "code",
   "execution_count": null,
   "metadata": {},
   "outputs": [],
   "source": [
    "# Produce a csv with the clean data:\n",
    "\n",
    "with open('DataAfter.csv', 'w', newline='') as csvfile:\n",
    "    spamwriter = csv.writer(csvfile, delimiter=';',   # If your data includes commas, choose characters to use as delimiters (e.g. %)\n",
    "                            quotechar='\"', quoting=csv.QUOTE_MINIMAL)\n",
    "    for row in merged:\n",
    "        spamwriter.writerow(row)"
   ]
  }
 ],
 "metadata": {
  "kernelspec": {
   "display_name": "Python 3",
   "language": "python",
   "name": "python3"
  },
  "language_info": {
   "codemirror_mode": {
    "name": "ipython",
    "version": 3
   },
   "file_extension": ".py",
   "mimetype": "text/x-python",
   "name": "python",
   "nbconvert_exporter": "python",
   "pygments_lexer": "ipython3",
   "version": "3.7.1"
  }
 },
 "nbformat": 4,
 "nbformat_minor": 2
}
